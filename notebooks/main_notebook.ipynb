{
 "cells": [
  {
   "cell_type": "code",
   "execution_count": 84,
   "id": "c5c4d279",
   "metadata": {
    "ExecuteTime": {
     "end_time": "2023-08-31T17:59:44.994043Z",
     "start_time": "2023-08-31T17:59:44.982518Z"
    }
   },
   "outputs": [],
   "source": [
    "import pandas as pd\n",
    "import numpy as np\n",
    "\n",
    "import inflection"
   ]
  },
  {
   "cell_type": "code",
   "execution_count": 4,
   "id": "6a79b90c",
   "metadata": {
    "ExecuteTime": {
     "end_time": "2023-08-31T13:44:09.339427Z",
     "start_time": "2023-08-31T13:44:09.274112Z"
    }
   },
   "outputs": [],
   "source": [
    "df = pd.read_csv('../dataset/zomato.csv')"
   ]
  },
  {
   "cell_type": "code",
   "execution_count": 85,
   "id": "11731830",
   "metadata": {
    "ExecuteTime": {
     "end_time": "2023-08-31T18:00:02.150685Z",
     "start_time": "2023-08-31T18:00:02.068525Z"
    }
   },
   "outputs": [],
   "source": [
    "df2 = pd.read_csv('../dataset/data.csv')"
   ]
  },
  {
   "cell_type": "code",
   "execution_count": 5,
   "id": "ea8d8d73",
   "metadata": {
    "ExecuteTime": {
     "end_time": "2023-08-31T13:44:09.897854Z",
     "start_time": "2023-08-31T13:44:09.877684Z"
    }
   },
   "outputs": [
    {
     "data": {
      "text/plain": [
       "Index(['Restaurant ID', 'Restaurant Name', 'Country Code', 'City', 'Address',\n",
       "       'Locality', 'Locality Verbose', 'Longitude', 'Latitude', 'Cuisines',\n",
       "       'Average Cost for two', 'Currency', 'Has Table booking',\n",
       "       'Has Online delivery', 'Is delivering now', 'Switch to order menu',\n",
       "       'Price range', 'Aggregate rating', 'Rating color', 'Rating text',\n",
       "       'Votes'],\n",
       "      dtype='object')"
      ]
     },
     "execution_count": 5,
     "metadata": {},
     "output_type": "execute_result"
    }
   ],
   "source": [
    "df.columns"
   ]
  },
  {
   "cell_type": "code",
   "execution_count": 6,
   "id": "0b8e91f7",
   "metadata": {
    "ExecuteTime": {
     "end_time": "2023-08-31T13:44:10.053855Z",
     "start_time": "2023-08-31T13:44:10.048846Z"
    }
   },
   "outputs": [],
   "source": [
    "df1 = df.copy()"
   ]
  },
  {
   "cell_type": "code",
   "execution_count": 7,
   "id": "739725f0",
   "metadata": {
    "ExecuteTime": {
     "end_time": "2023-08-31T13:44:12.843990Z",
     "start_time": "2023-08-31T13:44:12.819966Z"
    }
   },
   "outputs": [],
   "source": [
    "COUNTRIES = {\n",
    "    1: \"India\",\n",
    "    14: \"Australia\",\n",
    "    30: \"Brazil\",\n",
    "    37: \"Canada\",\n",
    "    94: \"Indonesia\",\n",
    "    148: \"New Zeland\",\n",
    "    162: \"Philippines\",\n",
    "    166: \"Qatar\",\n",
    "    184: \"Singapure\",\n",
    "    189: \"South Africa\",\n",
    "    191: \"Sri Lanka\",\n",
    "    208: \"Turkey\",\n",
    "    214: \"United Arab Emirates\",\n",
    "    215: \"England\",\n",
    "    216: \"United States of America\",\n",
    "}\n",
    "\n",
    "def country_name(country_id):\n",
    "    return COUNTRIES[country_id]\n",
    "\n",
    "def create_price_tye(price_range):\n",
    "    if price_range == 1:\n",
    "        return \"cheap\"\n",
    "    elif price_range == 2:\n",
    "        return \"normal\"\n",
    "    elif price_range == 3:\n",
    "        return \"expensive\"\n",
    "    else:\n",
    "        return \"gourmet\"\n",
    "    \n",
    "    \n",
    "COLORS = {\n",
    "    \"3F7E00\": \"darkgreen\",\n",
    "    \"5BA829\": \"green\",\n",
    "    \"9ACD32\": \"lightgreen\",\n",
    "    \"CDD614\": \"orange\",\n",
    "    \"FFBA00\": \"red\",\n",
    "    \"CBCBC8\": \"darkred\",\n",
    "    \"FF7800\": \"darkred\",\n",
    "}\n",
    "def color_name(color_code):\n",
    "    return COLORS[color_code]\n",
    "\n",
    "def rename_columns(dataframe):\n",
    "    df = dataframe.copy()\n",
    "    title = lambda x: inflection.titleize(x)\n",
    "    snakecase = lambda x: inflection.underscore(x)\n",
    "    spaces = lambda x: x.replace(\" \", \"\")\n",
    "    cols_old = list(df.columns)\n",
    "    cols_old = list(map(title, cols_old))\n",
    "    cols_old = list(map(spaces, cols_old))\n",
    "    cols_new = list(map(snakecase, cols_old))\n",
    "    df.columns = cols_new\n",
    "    \n",
    "    return df\n",
    "\n",
    "df1 = rename_columns(df1);\n",
    "df1['country'] = df1['country_code'].map(COUNTRIES);\n",
    "\n",
    "# removing outlier\n",
    "df1.loc[385, ['average_cost_for_two']] = 250"
   ]
  },
  {
   "cell_type": "code",
   "execution_count": 46,
   "id": "65c94800",
   "metadata": {
    "ExecuteTime": {
     "end_time": "2023-08-31T14:10:59.804396Z",
     "start_time": "2023-08-31T14:10:59.783638Z"
    }
   },
   "outputs": [],
   "source": [
    "df1['cuisines'] = df1['cuisines'].apply(lambda x: str(x).split(', ')[0])"
   ]
  },
  {
   "cell_type": "code",
   "execution_count": 8,
   "id": "c838cdc2",
   "metadata": {
    "ExecuteTime": {
     "end_time": "2023-08-31T13:44:14.196742Z",
     "start_time": "2023-08-31T13:44:14.184232Z"
    }
   },
   "outputs": [
    {
     "data": {
      "text/plain": [
       "Index(['restaurant_id', 'restaurant_name', 'country_code', 'city', 'address',\n",
       "       'locality', 'locality_verbose', 'longitude', 'latitude', 'cuisines',\n",
       "       'average_cost_for_two', 'currency', 'has_table_booking',\n",
       "       'has_online_delivery', 'is_delivering_now', 'switch_to_order_menu',\n",
       "       'price_range', 'aggregate_rating', 'rating_color', 'rating_text',\n",
       "       'votes', 'country'],\n",
       "      dtype='object')"
      ]
     },
     "execution_count": 8,
     "metadata": {},
     "output_type": "execute_result"
    }
   ],
   "source": [
    "df1.columns"
   ]
  },
  {
   "cell_type": "code",
   "execution_count": 9,
   "id": "a44dcdff",
   "metadata": {
    "ExecuteTime": {
     "end_time": "2023-08-31T13:45:11.705615Z",
     "start_time": "2023-08-31T13:45:11.696609Z"
    }
   },
   "outputs": [],
   "source": [
    "# 1. Quantos restaurantes únicos estão registrados?\n",
    "unique_restaurant = df1['restaurant_id'].nunique()\n",
    "\n",
    "# 2. Quantos países únicos estão registrados?\n",
    "countries = df1['country_code'].nunique()\n",
    "\n",
    "# 3. Quantas cidades únicas estão registradas?\n",
    "cities = df1['city'].nunique()\n",
    "\n",
    "# 4. Qual o total de avaliações feitas?\n",
    "votes = df1['votes'].sum()\n",
    "\n",
    "# 5. Qual o total de tipos de culinária registrados?\n",
    "cuisines = df1['cuisines'].nunique()\n"
   ]
  },
  {
   "cell_type": "code",
   "execution_count": 82,
   "id": "9bc3cfb0",
   "metadata": {
    "ExecuteTime": {
     "end_time": "2023-08-31T16:36:37.479902Z",
     "start_time": "2023-08-31T16:36:37.435288Z"
    },
    "code_folding": []
   },
   "outputs": [],
   "source": [
    "# 1. Qual o nome do país que possui mais cidades registradas?\n",
    "cities_by_country = df1[['city', 'country']].groupby('country').count().sort_values('city', ascending=False).reset_index()\n",
    "\n",
    "# 2. Qual o nome do país que possui mais restaurantes registrados?\n",
    "restaurants_by_country = df1[['restaurant_id', 'country']].groupby('country').nunique().sort_values('restaurant_id', ascending=False).reset_index()\n",
    "\n",
    "# 3. Qual o nome do país que possui mais restaurantes com o nível de preço igual a 4 registrados?\n",
    "exp_rest_by_country = df1[['restaurant_id', 'country']].loc[df1['price_range'] == 4].groupby('country').nunique().sort_values('restaurant_id', ascending=False).reset_index()\n",
    "\n",
    "# 4. Qual o nome do país que possui a maior quantidade de tipos de culinária distintos?\n",
    "unique_cuisines = df1[['country', 'cuisines']].groupby('country').nunique().sort_values('cuisines', ascending=False).reset_index()\n",
    "\n",
    "# 5. Qual o nome do país que possui a maior quantidade de avaliações feitas?\n",
    "unique_avs = df1[['country', 'votes']].groupby('country').sum().sort_values('votes', ascending=False).reset_index()\n",
    "\n",
    "# 6. Qual o nome do país que possui a maior quantidade de restaurantes que fazem entrega?\n",
    "unique_rests = df1[['country', 'restaurant_id']].groupby('country').nunique().reset_index()\n",
    "\n",
    "# 7. Qual o nome do país que possui a maior quantidade de restaurantes que aceitam reservas?\n",
    "reservation_rests = df1[['country', 'restaurant_id',]].loc[df1['has_table_booking'] == 1].groupby('country').nunique().sort_values('restaurant_id', ascending=False).reset_index()\n",
    "\n",
    "# 8. Qual o nome do país que possui, na média, a maior quantidade de avaliações registrada?\n",
    "\n",
    "# 9. Qual o nome do país que possui, na média, a maior nota média registrada?\n",
    "\n",
    "# 10. Qual o nome do país que possui, na média, a menor nota média registrada?\n",
    "\n",
    "# 11. Qual a média de preço de um prato para dois por país?\n",
    "mean_price_for_two = df1[['country', 'average_cost_for_two']].loc[df1['average_cost_for_two'] != 0].groupby('country').mean().sort_values('average_cost_for_two').reset_index()"
   ]
  },
  {
   "cell_type": "code",
   "execution_count": 10,
   "id": "d5c2dbd7",
   "metadata": {
    "ExecuteTime": {
     "end_time": "2023-08-31T13:45:37.298004Z",
     "start_time": "2023-08-31T13:45:37.286821Z"
    }
   },
   "outputs": [],
   "source": [
    "def process_data(file_path):\n",
    "    df = pd.read_csv(file_path)\n",
    "\n",
    "    df = df.dropna()\n",
    "\n",
    "    df = rename_columns(df)\n",
    "\n",
    "    df[\"price_type\"] = df.loc[:, \"price_range\"].apply(lambda x: create_price_tye(x))\n",
    "\n",
    "    df[\"country\"] = df.loc[:, \"country_code\"].apply(lambda x: country_name(x))\n",
    "\n",
    "    df[\"color_name\"] = df.loc[:, \"rating_color\"].apply(lambda x: color_name(x))\n",
    "\n",
    "    df[\"cuisines\"] = df.loc[:, \"cuisines\"].apply(lambda x: x.split(\",\")[0])\n",
    "\n",
    "    df = df.drop_duplicates()\n",
    "\n",
    "    df.to_csv(\"../dataset/data.csv\", index=False)\n",
    "\n",
    "    return df"
   ]
  },
  {
   "cell_type": "code",
   "execution_count": 37,
   "id": "b4731600",
   "metadata": {
    "ExecuteTime": {
     "end_time": "2023-08-31T13:56:07.735638Z",
     "start_time": "2023-08-31T13:56:07.710870Z"
    }
   },
   "outputs": [
    {
     "data": {
      "text/html": [
       "<div>\n",
       "<style scoped>\n",
       "    .dataframe tbody tr th:only-of-type {\n",
       "        vertical-align: middle;\n",
       "    }\n",
       "\n",
       "    .dataframe tbody tr th {\n",
       "        vertical-align: top;\n",
       "    }\n",
       "\n",
       "    .dataframe thead th {\n",
       "        text-align: right;\n",
       "    }\n",
       "</style>\n",
       "<table border=\"1\" class=\"dataframe\">\n",
       "  <thead>\n",
       "    <tr style=\"text-align: right;\">\n",
       "      <th></th>\n",
       "      <th>lat</th>\n",
       "      <th>lon</th>\n",
       "      <th>aggregate_rating</th>\n",
       "    </tr>\n",
       "  </thead>\n",
       "  <tbody>\n",
       "    <tr>\n",
       "      <th>0</th>\n",
       "      <td>14.447615</td>\n",
       "      <td>121.009787</td>\n",
       "      <td>4.6</td>\n",
       "    </tr>\n",
       "    <tr>\n",
       "      <th>1</th>\n",
       "      <td>14.447615</td>\n",
       "      <td>121.009787</td>\n",
       "      <td>4.6</td>\n",
       "    </tr>\n",
       "    <tr>\n",
       "      <th>2</th>\n",
       "      <td>14.556042</td>\n",
       "      <td>121.024562</td>\n",
       "      <td>4.7</td>\n",
       "    </tr>\n",
       "    <tr>\n",
       "      <th>3</th>\n",
       "      <td>14.556196</td>\n",
       "      <td>121.023171</td>\n",
       "      <td>4.4</td>\n",
       "    </tr>\n",
       "    <tr>\n",
       "      <th>4</th>\n",
       "      <td>14.565899</td>\n",
       "      <td>121.027708</td>\n",
       "      <td>4.4</td>\n",
       "    </tr>\n",
       "  </tbody>\n",
       "</table>\n",
       "</div>"
      ],
      "text/plain": [
       "         lat         lon  aggregate_rating\n",
       "0  14.447615  121.009787               4.6\n",
       "1  14.447615  121.009787               4.6\n",
       "2  14.556042  121.024562               4.7\n",
       "3  14.556196  121.023171               4.4\n",
       "4  14.565899  121.027708               4.4"
      ]
     },
     "execution_count": 37,
     "metadata": {},
     "output_type": "execute_result"
    }
   ],
   "source": [
    "aux_map = df1[['latitude', 'longitude', 'aggregate_rating']].copy()\n",
    "aux_map.rename( columns = {'latitude': 'lat', 'longitude': 'lon'}, inplace = True )\n",
    "aux_map['aggregate_rating'] = aux_map['aggregate_rating'] \n",
    "aux_map.head()"
   ]
  },
  {
   "cell_type": "code",
   "execution_count": 83,
   "id": "40469512",
   "metadata": {
    "ExecuteTime": {
     "end_time": "2023-08-31T16:36:44.158872Z",
     "start_time": "2023-08-31T16:36:44.138808Z"
    }
   },
   "outputs": [
    {
     "data": {
      "text/html": [
       "<div>\n",
       "<style scoped>\n",
       "    .dataframe tbody tr th:only-of-type {\n",
       "        vertical-align: middle;\n",
       "    }\n",
       "\n",
       "    .dataframe tbody tr th {\n",
       "        vertical-align: top;\n",
       "    }\n",
       "\n",
       "    .dataframe thead th {\n",
       "        text-align: right;\n",
       "    }\n",
       "</style>\n",
       "<table border=\"1\" class=\"dataframe\">\n",
       "  <thead>\n",
       "    <tr style=\"text-align: right;\">\n",
       "      <th></th>\n",
       "      <th>country</th>\n",
       "      <th>average_cost_for_two</th>\n",
       "    </tr>\n",
       "  </thead>\n",
       "  <tbody>\n",
       "    <tr>\n",
       "      <th>0</th>\n",
       "      <td>Canada</td>\n",
       "      <td>42.570621</td>\n",
       "    </tr>\n",
       "    <tr>\n",
       "      <th>1</th>\n",
       "      <td>England</td>\n",
       "      <td>43.950935</td>\n",
       "    </tr>\n",
       "    <tr>\n",
       "      <th>2</th>\n",
       "      <td>United States of America</td>\n",
       "      <td>55.318412</td>\n",
       "    </tr>\n",
       "    <tr>\n",
       "      <th>3</th>\n",
       "      <td>New Zeland</td>\n",
       "      <td>62.681452</td>\n",
       "    </tr>\n",
       "    <tr>\n",
       "      <th>4</th>\n",
       "      <td>Australia</td>\n",
       "      <td>73.412429</td>\n",
       "    </tr>\n",
       "    <tr>\n",
       "      <th>5</th>\n",
       "      <td>Turkey</td>\n",
       "      <td>128.848485</td>\n",
       "    </tr>\n",
       "    <tr>\n",
       "      <th>6</th>\n",
       "      <td>Singapure</td>\n",
       "      <td>141.036585</td>\n",
       "    </tr>\n",
       "    <tr>\n",
       "      <th>7</th>\n",
       "      <td>Brazil</td>\n",
       "      <td>141.161417</td>\n",
       "    </tr>\n",
       "    <tr>\n",
       "      <th>8</th>\n",
       "      <td>United Arab Emirates</td>\n",
       "      <td>161.112805</td>\n",
       "    </tr>\n",
       "    <tr>\n",
       "      <th>9</th>\n",
       "      <td>Qatar</td>\n",
       "      <td>176.648936</td>\n",
       "    </tr>\n",
       "    <tr>\n",
       "      <th>10</th>\n",
       "      <td>South Africa</td>\n",
       "      <td>339.928382</td>\n",
       "    </tr>\n",
       "    <tr>\n",
       "      <th>11</th>\n",
       "      <td>India</td>\n",
       "      <td>703.708571</td>\n",
       "    </tr>\n",
       "    <tr>\n",
       "      <th>12</th>\n",
       "      <td>Philippines</td>\n",
       "      <td>1211.090909</td>\n",
       "    </tr>\n",
       "    <tr>\n",
       "      <th>13</th>\n",
       "      <td>Sri Lanka</td>\n",
       "      <td>2637.790698</td>\n",
       "    </tr>\n",
       "    <tr>\n",
       "      <th>14</th>\n",
       "      <td>Indonesia</td>\n",
       "      <td>312682.926829</td>\n",
       "    </tr>\n",
       "  </tbody>\n",
       "</table>\n",
       "</div>"
      ],
      "text/plain": [
       "                     country  average_cost_for_two\n",
       "0                     Canada             42.570621\n",
       "1                    England             43.950935\n",
       "2   United States of America             55.318412\n",
       "3                 New Zeland             62.681452\n",
       "4                  Australia             73.412429\n",
       "5                     Turkey            128.848485\n",
       "6                  Singapure            141.036585\n",
       "7                     Brazil            141.161417\n",
       "8       United Arab Emirates            161.112805\n",
       "9                      Qatar            176.648936\n",
       "10              South Africa            339.928382\n",
       "11                     India            703.708571\n",
       "12               Philippines           1211.090909\n",
       "13                 Sri Lanka           2637.790698\n",
       "14                 Indonesia         312682.926829"
      ]
     },
     "execution_count": 83,
     "metadata": {},
     "output_type": "execute_result"
    }
   ],
   "source": [
    "# df1[['country', 'price_range', 'average_cost_for_two']].loc[df1['country'] == 'Australia'].sort_values('average_cost_for_two', ascending=False)\n",
    "mean_price_for_two"
   ]
  },
  {
   "cell_type": "code",
   "execution_count": 87,
   "id": "cf32f28e",
   "metadata": {
    "ExecuteTime": {
     "end_time": "2023-08-31T18:00:20.821441Z",
     "start_time": "2023-08-31T18:00:20.805392Z"
    }
   },
   "outputs": [
    {
     "data": {
      "text/plain": [
       "0       3\n",
       "1       3\n",
       "2       4\n",
       "3       3\n",
       "4       3\n",
       "       ..\n",
       "7522    4\n",
       "7523    2\n",
       "7524    4\n",
       "7525    3\n",
       "7526    4\n",
       "Name: price_range, Length: 7527, dtype: int64"
      ]
     },
     "execution_count": 87,
     "metadata": {},
     "output_type": "execute_result"
    }
   ],
   "source": [
    "df1['price_range']"
   ]
  },
  {
   "cell_type": "code",
   "execution_count": null,
   "id": "3469d93c",
   "metadata": {},
   "outputs": [],
   "source": []
  }
 ],
 "metadata": {
  "kernelspec": {
   "display_name": "Python 3 (ipykernel)",
   "language": "python",
   "name": "python3"
  },
  "language_info": {
   "codemirror_mode": {
    "name": "ipython",
    "version": 3
   },
   "file_extension": ".py",
   "mimetype": "text/x-python",
   "name": "python",
   "nbconvert_exporter": "python",
   "pygments_lexer": "ipython3",
   "version": "3.10.12"
  },
  "toc": {
   "base_numbering": 1,
   "nav_menu": {},
   "number_sections": true,
   "sideBar": true,
   "skip_h1_title": false,
   "title_cell": "Table of Contents",
   "title_sidebar": "Contents",
   "toc_cell": false,
   "toc_position": {},
   "toc_section_display": true,
   "toc_window_display": false
  }
 },
 "nbformat": 4,
 "nbformat_minor": 5
}
